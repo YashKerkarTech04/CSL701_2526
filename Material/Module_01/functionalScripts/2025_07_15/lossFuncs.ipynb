{
 "cells": [
  {
   "cell_type": "code",
   "execution_count": 1,
   "id": "2f17b475",
   "metadata": {},
   "outputs": [],
   "source": [
    "import numpy as np\n",
    "import matplotlib.pyplot as plt"
   ]
  },
  {
   "cell_type": "code",
   "execution_count": 2,
   "id": "6132c5e0-5918-4d9c-bdcd-a3eb30572896",
   "metadata": {},
   "outputs": [],
   "source": [
    "X = np.arange (start=0, stop=1, step=0.01)\n",
    "y = 0.7 * X + 0.3"
   ]
  },
  {
   "cell_type": "code",
   "execution_count": 5,
   "id": "d425dfdf-1b70-4013-9f54-552042a3575f",
   "metadata": {},
   "outputs": [
    {
     "data": {
      "text/plain": [
       "[<matplotlib.lines.Line2D at 0x21cd39c8c90>]"
      ]
     },
     "execution_count": 5,
     "metadata": {},
     "output_type": "execute_result"
    },
    {
     "data": {
      "image/png": "[encoded data removed]",
      "text/plain": [
       "<Figure size 640x480 with 1 Axes>"
      ]
     },
     "metadata": {},
     "output_type": "display_data"
    }
   ],
   "source": [
    "plt.plot (X, y)"
   ]
  },
  {
   "cell_type": "code",
   "execution_count": 7,
   "id": "b3ed8667-a5e3-4363-9fb7-73f88ad1f37d",
   "metadata": {},
   "outputs": [
    {
     "data": {
      "text/plain": [
       "(1, 100)"
      ]
     },
     "execution_count": 7,
     "metadata": {},
     "output_type": "execute_result"
    }
   ],
   "source": [
    "X = np.expand_dims (X, axis=0)\n",
    "X.shape"
   ]
  },
  {
   "cell_type": "code",
   "execution_count": 8,
   "id": "12ed50f0-c561-4a34-ace7-e02994599930",
   "metadata": {},
   "outputs": [],
   "source": [
    "X = np.transpose (X)"
   ]
  },
  {
   "cell_type": "code",
   "execution_count": 9,
   "id": "889a4f5c-e5b7-4fc9-ac36-4833867e881e",
   "metadata": {},
   "outputs": [
    {
     "data": {
      "text/plain": [
       "(100, 1)"
      ]
     },
     "execution_count": 9,
     "metadata": {},
     "output_type": "execute_result"
    }
   ],
   "source": [
    "X.shape"
   ]
  },
  {
   "cell_type": "code",
   "execution_count": 10,
   "id": "cf0f50e6-c4ca-48c0-aa0b-d70d19e538e4",
   "metadata": {},
   "outputs": [
    {
     "data": {
      "text/plain": [
       "(100,)"
      ]
     },
     "execution_count": 10,
     "metadata": {},
     "output_type": "execute_result"
    }
   ],
   "source": [
    "y.shape"
   ]
  },
  {
   "cell_type": "code",
   "execution_count": 11,
   "id": "f12c4a3f-8fd5-47f2-a122-8fc27ef22a8a",
   "metadata": {},
   "outputs": [],
   "source": [
    "np.random.seed (0)\n",
    "\n",
    "class Model:\n",
    "    def __init__ (self, inputLayer, outputLayer):\n",
    "        self.weights = np.random.randn(1)\n",
    "        self.bias = np.zeros ((1, 1))\n",
    "\n",
    "    def linear (self, X):\n",
    "        self.output = self.weights * X + self.bias\n",
    "        return self.output"
   ]
  },
  {
   "cell_type": "code",
   "execution_count": 12,
   "id": "bf7607e0-3302-4b07-813d-67e96cf6b1ff",
   "metadata": {},
   "outputs": [],
   "source": [
    "model = Model (100, 1)"
   ]
  },
  {
   "cell_type": "code",
   "execution_count": 13,
   "id": "c211dc81-5275-4ee9-8324-17411d48d2b4",
   "metadata": {},
   "outputs": [],
   "source": [
    "y_pred = model.linear (X)"
   ]
  },
  {
   "cell_type": "code",
   "execution_count": 15,
   "id": "72430f06-4718-4d92-bb77-819961bac103",
   "metadata": {},
   "outputs": [
    {
     "data": {
      "text/plain": [
       "array([[0.        ],\n",
       "       [0.01764052],\n",
       "       [0.03528105],\n",
       "       [0.05292157],\n",
       "       [0.07056209]])"
      ]
     },
     "execution_count": 15,
     "metadata": {},
     "output_type": "execute_result"
    }
   ],
   "source": [
    "y_pred[0:5]"
   ]
  },
  {
   "cell_type": "code",
   "execution_count": 26,
   "id": "df183b43-9646-44a9-9650-1e10cc1747a1",
   "metadata": {},
   "outputs": [
    {
     "data": {
      "text/plain": [
       "array([0.        , 0.01764052, 0.03528105, 0.05292157, 0.07056209])"
      ]
     },
     "execution_count": 26,
     "metadata": {},
     "output_type": "execute_result"
    }
   ],
   "source": [
    "y_pred = np.squeeze (y_pred)\n",
    "y_pred[0:5]"
   ]
  },
  {
   "cell_type": "code",
   "execution_count": 27,
   "id": "c807d0a5-c325-409b-8ad2-d5fceb03ff60",
   "metadata": {},
   "outputs": [
    {
     "data": {
      "text/plain": [
       "array([0.3  , 0.307, 0.314, 0.321, 0.328])"
      ]
     },
     "execution_count": 27,
     "metadata": {},
     "output_type": "execute_result"
    }
   ],
   "source": [
    "y[0:5]"
   ]
  },
  {
   "cell_type": "markdown",
   "id": "ed71c579-154c-4b2d-a92c-b0d15eeb2900",
   "metadata": {},
   "source": [
    "### Mean Absolute Error"
   ]
  },
  {
   "cell_type": "code",
   "execution_count": 28,
   "id": "7faf773f-3578-46da-a609-ade34bf2fa5d",
   "metadata": {},
   "outputs": [],
   "source": [
    "error = y_pred - y"
   ]
  },
  {
   "cell_type": "code",
   "execution_count": 29,
   "id": "a8f6a508-b36c-4fba-b63d-f1e473e3eb68",
   "metadata": {},
   "outputs": [],
   "source": [
    "error_abs = np.abs (error)"
   ]
  },
  {
   "cell_type": "code",
   "execution_count": 30,
   "id": "483e7776-75d4-4c37-aa6e-0e1efedd6ede",
   "metadata": {},
   "outputs": [],
   "source": [
    "mae = np.mean (error_abs)"
   ]
  },
  {
   "cell_type": "code",
   "execution_count": 31,
   "id": "e0516085-090c-494c-a99b-239a8c43f857",
   "metadata": {},
   "outputs": [
    {
     "name": "stdout",
     "output_type": "stream",
     "text": [
      "Raw implementation of MAE is : 0.3143048607614194\n"
     ]
    }
   ],
   "source": [
    "print (f'Raw implementation of MAE is : {mae}')"
   ]
  },
  {
   "cell_type": "markdown",
   "id": "1276915a-f331-4c66-a742-3d72af65e6ad",
   "metadata": {},
   "source": [
    "### MAE in torch"
   ]
  },
  {
   "cell_type": "code",
   "execution_count": 32,
   "id": "34354403-b8ad-445f-8963-f1bfef6600b6",
   "metadata": {},
   "outputs": [
    {
     "data": {
      "text/plain": [
       "tensor(0.3143)"
      ]
     },
     "execution_count": 32,
     "metadata": {},
     "output_type": "execute_result"
    }
   ],
   "source": [
    "import torch\n",
    "from torch.nn import L1Loss\n",
    "\n",
    "mae = L1Loss ()\n",
    "\n",
    "torchTrue = torch.Tensor (y)\n",
    "torchPred = torch.Tensor (y_pred)\n",
    "\n",
    "loss = mae (torchTrue, torchPred)\n",
    "loss"
   ]
  },
  {
   "cell_type": "markdown",
   "id": "d0342d0e-bad4-4ebd-94cf-7c5b9b1ad8d5",
   "metadata": {},
   "source": [
    "### MAE in TensorFlow"
   ]
  },
  {
   "cell_type": "code",
   "execution_count": 33,
   "id": "32a0e387-bf04-4827-bc8e-b691af55daef",
   "metadata": {},
   "outputs": [],
   "source": [
    "import tensorflow as tf\n",
    "from tensorflow.keras.losses import MeanAbsoluteError"
   ]
  },
  {
   "cell_type": "code",
   "execution_count": 34,
   "id": "1c58ef44-9da6-4107-9d0d-93e6fd754644",
   "metadata": {},
   "outputs": [
    {
     "data": {
      "text/plain": [
       "<tf.Tensor: shape=(), dtype=float32, numpy=0.31430486>"
      ]
     },
     "execution_count": 34,
     "metadata": {},
     "output_type": "execute_result"
    }
   ],
   "source": [
    "mae_tf = MeanAbsoluteError ()\n",
    "loss_tf = mae_tf (y, y_pred)\n",
    "loss_tf"
   ]
  },
  {
   "cell_type": "markdown",
   "id": "1cad4f6f-d1f4-4954-86ab-8b7ae2bf62f9",
   "metadata": {},
   "source": [
    "## Classification"
   ]
  },
  {
   "cell_type": "code",
   "execution_count": 35,
   "id": "1b02bfd9-6019-4b6d-bc5f-f9f2dc2fba2e",
   "metadata": {},
   "outputs": [],
   "source": [
    "data = np.random.randn (10)\n",
    "y = np.where (data<0, 0, 1)"
   ]
  },
  {
   "cell_type": "code",
   "execution_count": 37,
   "id": "57aba537-5a11-459d-8eaf-d0cdc9c2069f",
   "metadata": {},
   "outputs": [
    {
     "data": {
      "text/plain": [
       "array([ 0.40015721,  0.97873798,  2.2408932 ,  1.86755799, -0.97727788,\n",
       "        0.95008842, -0.15135721, -0.10321885,  0.4105985 ,  0.14404357])"
      ]
     },
     "execution_count": 37,
     "metadata": {},
     "output_type": "execute_result"
    }
   ],
   "source": [
    "data"
   ]
  },
  {
   "cell_type": "code",
   "execution_count": 38,
   "id": "7ffb40bb-585c-4332-ab5c-dbe33b5df562",
   "metadata": {},
   "outputs": [
    {
     "data": {
      "text/plain": [
       "array([1, 1, 1, 1, 0, 1, 0, 0, 1, 1])"
      ]
     },
     "execution_count": 38,
     "metadata": {},
     "output_type": "execute_result"
    }
   ],
   "source": [
    "y"
   ]
  },
  {
   "cell_type": "code",
   "execution_count": 39,
   "id": "6f78cf36-e065-4a01-ad2c-9fac4fd82cd5",
   "metadata": {},
   "outputs": [],
   "source": [
    "def sigmoid (z):\n",
    "    return (1 / (1 + np.exp (-z)))\n",
    "\n",
    "predicted_value = [sigmoid (i) for i in data]\n",
    "predicted_value = np.array (predicted_value)"
   ]
  },
  {
   "cell_type": "code",
   "execution_count": 40,
   "id": "0d4c1d4e-1e29-4c30-800a-8c7494c6293d",
   "metadata": {},
   "outputs": [
    {
     "data": {
      "text/plain": [
       "array([0.59872543, 0.72685773, 0.9038621 , 0.86617546, 0.27343225,\n",
       "       0.72113296, 0.46223277, 0.47421817, 0.60123138, 0.53594876])"
      ]
     },
     "execution_count": 40,
     "metadata": {},
     "output_type": "execute_result"
    }
   ],
   "source": [
    "predicted_value"
   ]
  },
  {
   "cell_type": "code",
   "execution_count": 48,
   "id": "4aca1753-690a-457c-913e-0d01d7f930aa",
   "metadata": {},
   "outputs": [],
   "source": [
    "def logLoss (y_pred, y_true):\n",
    "    return -(y_true * np.log (y_pred) + (1-y_true) * np.log (1-y_pred)).mean ()"
   ]
  },
  {
   "cell_type": "code",
   "execution_count": 49,
   "id": "64ea4a9d-a6bf-4db8-9b4b-ba004c70d0d5",
   "metadata": {},
   "outputs": [],
   "source": [
    "loss = logLoss (predicted_value, y)"
   ]
  },
  {
   "cell_type": "code",
   "execution_count": 50,
   "id": "596f75d6-92b8-4e9e-8cb7-9ae5aa7d6748",
   "metadata": {},
   "outputs": [
    {
     "data": {
      "text/plain": [
       "0.41187687702138015"
      ]
     },
     "execution_count": 50,
     "metadata": {},
     "output_type": "execute_result"
    }
   ],
   "source": [
    "loss"
   ]
  },
  {
   "cell_type": "code",
   "execution_count": 51,
   "id": "9c4cc9a0-a67c-4da2-9443-782db62d10cc",
   "metadata": {},
   "outputs": [
    {
     "data": {
      "text/plain": [
       "tensor(0.4119)"
      ]
     },
     "execution_count": 51,
     "metadata": {},
     "output_type": "execute_result"
    }
   ],
   "source": [
    "from torch.nn import BCELoss\n",
    "\n",
    "torchOutput = torch.Tensor (predicted_value)\n",
    "torch_y = torch.Tensor (y)\n",
    "\n",
    "torchLoss = BCELoss ()\n",
    "torch_output = torchLoss (torchOutput, torch_y)\n",
    "torch_output"
   ]
  },
  {
   "cell_type": "code",
   "execution_count": 52,
   "id": "86db9b63-7361-460c-acc2-b6ee89182ea2",
   "metadata": {},
   "outputs": [],
   "source": [
    "from tensorflow.keras.losses import BinaryCrossentropy\n",
    "bcetf = BinaryCrossentropy ()\n",
    "tf_val = bcetf (y_true=y, y_pred=predicted_value)"
   ]
  },
  {
   "cell_type": "code",
   "execution_count": 53,
   "id": "47bd6ef0-1695-4898-aa65-a8c516815d44",
   "metadata": {},
   "outputs": [
    {
     "data": {
      "text/plain": [
       "<tf.Tensor: shape=(), dtype=float32, numpy=0.41187686>"
      ]
     },
     "execution_count": 53,
     "metadata": {},
     "output_type": "execute_result"
    }
   ],
   "source": [
    "tf_val"
   ]
  },
  {
   "cell_type": "markdown",
   "id": "e556492b-9129-4453-96cf-4ce8a81a21f5",
   "metadata": {},
   "source": [
    "### Softmax and Categorical Cross Entropy"
   ]
  },
  {
   "cell_type": "code",
   "execution_count": 55,
   "id": "24a2ea02-84c5-45e4-8cbb-1ea646334d18",
   "metadata": {},
   "outputs": [
    {
     "name": "stdout",
     "output_type": "stream",
     "text": [
      "X : [[ 0.49671415 -0.1382643   0.64768854  1.52302986 -0.23415337 -0.23413696\n",
      "   1.57921282  0.76743473 -0.46947439  0.54256004]]\n",
      "y : [[0 0 0 0 0 0 0 0 0 0]]\n"
     ]
    }
   ],
   "source": [
    "np.random.seed (42)\n",
    "\n",
    "X_data = np.random.randn (1, 10)\n",
    "y_data = np.zeros ((1, 10), dtype=int)\n",
    "\n",
    "print (f'X : {X_data}')\n",
    "print (f'y : {y_data}')"
   ]
  },
  {
   "cell_type": "code",
   "execution_count": 57,
   "id": "55d35dd1-9bea-4b1e-b44a-83a212430e2d",
   "metadata": {},
   "outputs": [],
   "source": [
    "maxim = np.argmax (X_data)\n",
    "for _ in range (len (X_data)):\n",
    "    y_data[_][maxim] = 1"
   ]
  },
  {
   "cell_type": "code",
   "execution_count": 58,
   "id": "0a6fe0d3-9c2b-4d15-be95-0c28125ea2c2",
   "metadata": {},
   "outputs": [
    {
     "name": "stdout",
     "output_type": "stream",
     "text": [
      "y after operation : [[0 0 0 0 0 0 1 0 0 0]]\n"
     ]
    }
   ],
   "source": [
    "print (f'y after operation : {y_data}')"
   ]
  },
  {
   "cell_type": "code",
   "execution_count": 59,
   "id": "0e600881-301b-4adc-bcf5-a3b6a9561492",
   "metadata": {},
   "outputs": [],
   "source": [
    "def softmax (x):\n",
    "    return np.exp (x) / np.exp (x).sum ()"
   ]
  },
  {
   "cell_type": "code",
   "execution_count": 60,
   "id": "a1430125-bb3f-434e-9327-34d0bb1bf76c",
   "metadata": {},
   "outputs": [
    {
     "data": {
      "text/plain": [
       "array([[0.08239222, 0.0436635 , 0.09581943, 0.22993732, 0.03967112,\n",
       "        0.03967177, 0.24322568, 0.10800868, 0.03135277, 0.0862575 ]])"
      ]
     },
     "execution_count": 60,
     "metadata": {},
     "output_type": "execute_result"
    }
   ],
   "source": [
    "y_pred = softmax (X_data)\n",
    "y_pred"
   ]
  },
  {
   "cell_type": "code",
   "execution_count": 61,
   "id": "c6d931fc-0c43-4b12-8003-b665bfefb547",
   "metadata": {},
   "outputs": [
    {
     "data": {
      "text/plain": [
       "6"
      ]
     },
     "execution_count": 61,
     "metadata": {},
     "output_type": "execute_result"
    }
   ],
   "source": [
    "np.argmax (y_pred)"
   ]
  },
  {
   "cell_type": "code",
   "execution_count": 63,
   "id": "2e0ce03e-cef7-4d26-8af5-eeaa2fb8f026",
   "metadata": {},
   "outputs": [
    {
     "data": {
      "text/plain": [
       "6"
      ]
     },
     "execution_count": 63,
     "metadata": {},
     "output_type": "execute_result"
    }
   ],
   "source": [
    "np.argmax (y_data)"
   ]
  },
  {
   "cell_type": "code",
   "execution_count": 64,
   "id": "d5545719-87ba-4ad3-a7c9-6d0d396d21a0",
   "metadata": {},
   "outputs": [],
   "source": [
    "def cce (true_label, pred_label):\n",
    "    lcce = - np.sum (true_label * np.log (pred_label))\n",
    "    return lcce"
   ]
  },
  {
   "cell_type": "code",
   "execution_count": 65,
   "id": "8dc4326a-795d-43a3-a43c-2dce67abea6c",
   "metadata": {},
   "outputs": [
    {
     "data": {
      "text/plain": [
       "1.4137655531672622"
      ]
     },
     "execution_count": 65,
     "metadata": {},
     "output_type": "execute_result"
    }
   ],
   "source": [
    "loss = cce (y_data, y_pred)\n",
    "loss"
   ]
  },
  {
   "cell_type": "code",
   "execution_count": 66,
   "id": "b5f19654-2c68-42e6-86cf-a73747f65916",
   "metadata": {},
   "outputs": [
    {
     "data": {
      "text/plain": [
       "<tf.Tensor: shape=(), dtype=float32, numpy=1.4137655>"
      ]
     },
     "execution_count": 66,
     "metadata": {},
     "output_type": "execute_result"
    }
   ],
   "source": [
    "from tensorflow.keras.losses import CategoricalCrossentropy\n",
    "lcce_tf = CategoricalCrossentropy ()\n",
    "lcce_tf (y_data, y_pred)"
   ]
  },
  {
   "cell_type": "code",
   "execution_count": 70,
   "id": "f1fc7f79-8290-4c7e-8495-2c3c9bd69398",
   "metadata": {},
   "outputs": [
    {
     "data": {
      "text/plain": [
       "tensor(1.4138)"
      ]
     },
     "execution_count": 70,
     "metadata": {},
     "output_type": "execute_result"
    }
   ],
   "source": [
    "from torch.nn import CrossEntropyLoss\n",
    "\n",
    "lcce_torch = CrossEntropyLoss ()\n",
    "\n",
    "torch_true = torch.Tensor (X_data)\n",
    "torch_pred = torch.Tensor (y_data)\n",
    "\n",
    "lcce_torch (torch_true, torch_pred)"
   ]
  },
  {
   "cell_type": "code",
   "execution_count": null,
   "id": "31d2b228-1c1d-4eff-8153-13886e50ae12",
   "metadata": {},
   "outputs": [],
   "source": []
  }
 ],
 "metadata": {
  "kernelspec": {
   "display_name": "Python 3 (ipykernel)",
   "language": "python",
   "name": "python3"
  },
  "language_info": {
   "codemirror_mode": {
    "name": "ipython",
    "version": 3
   },
   "file_extension": ".py",
   "mimetype": "text/x-python",
   "name": "python",
   "nbconvert_exporter": "python",
   "pygments_lexer": "ipython3",
   "version": "3.11.5"
  }
 },
 "nbformat": 4,
 "nbformat_minor": 5
}
